{
 "cells": [
  {
   "cell_type": "markdown",
   "metadata": {},
   "source": [
    "### Imported the Following Models"
   ]
  },
  {
   "cell_type": "code",
   "execution_count": 1,
   "metadata": {},
   "outputs": [
    {
     "name": "stderr",
     "output_type": "stream",
     "text": [
      "[nltk_data] Downloading package wordnet to\n",
      "[nltk_data]     /Users/edwardmendoza/nltk_data...\n",
      "[nltk_data]   Package wordnet is already up-to-date!\n",
      "[nltk_data] Downloading package stopwords to\n",
      "[nltk_data]     /Users/edwardmendoza/nltk_data...\n",
      "[nltk_data]   Package stopwords is already up-to-date!\n"
     ]
    }
   ],
   "source": [
    "import numpy as np\n",
    "import pandas as pd\n",
    "import matplotlib.pyplot as plt\n",
    "import seaborn as sns\n",
    "import stop_words #Created a .py file with all stop_words I deemed not useful for my analysis\n",
    "import nltk\n",
    "nltk.download('wordnet')\n",
    "nltk.download('stopwords')\n",
    "\n",
    "from nltk.tokenize import sent_tokenize, word_tokenize, RegexpTokenizer\n",
    "from nltk.stem import WordNetLemmatizer\n",
    "from nltk.stem.porter import PorterStemmer\n",
    "from nltk.corpus import stopwords\n",
    "from nltk.sentiment.vader import SentimentIntensityAnalyzer\n",
    "import re\n",
    "import string\n",
    "\n",
    "# Import CountVectorizer and TFIDFVectorizer from feature_extraction.text.\n",
    "from sklearn.feature_extraction.text import CountVectorizer\n",
    "import warnings\n",
    "warnings.simplefilter(action='ignore', category=FutureWarning)\n",
    "from nltk.sentiment.vader import SentimentIntensityAnalyzer\n"
   ]
  },
  {
   "cell_type": "code",
   "execution_count": 5,
   "metadata": {},
   "outputs": [],
   "source": [
    "bro_pill = pd.read_csv('../Datasets/bro_pill.csv')\n",
    "male_mental_health = pd.read_csv('../Datasets/malementalhealth.csv')\n",
    "mens_lib = pd.read_csv('../Datasets/Mens_Lib.csv')\n",
    "ask_men = pd.read_csv('../Datasets/ask_men.csv')"
   ]
  },
  {
   "cell_type": "code",
   "execution_count": 6,
   "metadata": {},
   "outputs": [
    {
     "data": {
      "text/html": [
       "<div>\n",
       "<style scoped>\n",
       "    .dataframe tbody tr th:only-of-type {\n",
       "        vertical-align: middle;\n",
       "    }\n",
       "\n",
       "    .dataframe tbody tr th {\n",
       "        vertical-align: top;\n",
       "    }\n",
       "\n",
       "    .dataframe thead th {\n",
       "        text-align: right;\n",
       "    }\n",
       "</style>\n",
       "<table border=\"1\" class=\"dataframe\">\n",
       "  <thead>\n",
       "    <tr style=\"text-align: right;\">\n",
       "      <th></th>\n",
       "      <th>title</th>\n",
       "      <th>selftext</th>\n",
       "      <th>subreddit</th>\n",
       "      <th>created_utc</th>\n",
       "      <th>author</th>\n",
       "      <th>num_comments</th>\n",
       "      <th>score</th>\n",
       "      <th>is_self</th>\n",
       "      <th>timestamp</th>\n",
       "    </tr>\n",
       "  </thead>\n",
       "  <tbody>\n",
       "    <tr>\n",
       "      <th>0</th>\n",
       "      <td>Tuesday Check In: How's Everybody's Mental Hea...</td>\n",
       "      <td>Good morning everyone and welcome to our weekl...</td>\n",
       "      <td>MensLib</td>\n",
       "      <td>1614060020</td>\n",
       "      <td>MLModBot</td>\n",
       "      <td>111</td>\n",
       "      <td>21</td>\n",
       "      <td>True</td>\n",
       "      <td>2021-02-22</td>\n",
       "    </tr>\n",
       "    <tr>\n",
       "      <th>1</th>\n",
       "      <td>Masculinity and The Fear of Being Ordinary</td>\n",
       "      <td>Do you feel a need to be \"superior\" or \"except...</td>\n",
       "      <td>MensLib</td>\n",
       "      <td>1614066596</td>\n",
       "      <td>spudmix</td>\n",
       "      <td>308</td>\n",
       "      <td>593</td>\n",
       "      <td>True</td>\n",
       "      <td>2021-02-22</td>\n",
       "    </tr>\n",
       "    <tr>\n",
       "      <th>2</th>\n",
       "      <td>Dating Resources?</td>\n",
       "      <td>[removed]</td>\n",
       "      <td>MensLib</td>\n",
       "      <td>1614078549</td>\n",
       "      <td>GreatWyrm</td>\n",
       "      <td>4</td>\n",
       "      <td>2</td>\n",
       "      <td>True</td>\n",
       "      <td>2021-02-23</td>\n",
       "    </tr>\n",
       "    <tr>\n",
       "      <th>3</th>\n",
       "      <td>Vunrability</td>\n",
       "      <td>[removed]</td>\n",
       "      <td>MensLib</td>\n",
       "      <td>1614083378</td>\n",
       "      <td>lizardwizthebiz</td>\n",
       "      <td>2</td>\n",
       "      <td>1</td>\n",
       "      <td>True</td>\n",
       "      <td>2021-02-23</td>\n",
       "    </tr>\n",
       "    <tr>\n",
       "      <th>4</th>\n",
       "      <td>Should men be able to walk away from having ki...</td>\n",
       "      <td>NaN</td>\n",
       "      <td>MensLib</td>\n",
       "      <td>1614089417</td>\n",
       "      <td>[deleted]</td>\n",
       "      <td>6</td>\n",
       "      <td>1</td>\n",
       "      <td>True</td>\n",
       "      <td>2021-02-23</td>\n",
       "    </tr>\n",
       "    <tr>\n",
       "      <th>...</th>\n",
       "      <td>...</td>\n",
       "      <td>...</td>\n",
       "      <td>...</td>\n",
       "      <td>...</td>\n",
       "      <td>...</td>\n",
       "      <td>...</td>\n",
       "      <td>...</td>\n",
       "      <td>...</td>\n",
       "      <td>...</td>\n",
       "    </tr>\n",
       "    <tr>\n",
       "      <th>27239</th>\n",
       "      <td>Guys who have never had a romantic, intimate a...</td>\n",
       "      <td>NaN</td>\n",
       "      <td>AskMen</td>\n",
       "      <td>1421017188</td>\n",
       "      <td>shamefulsomeone</td>\n",
       "      <td>0</td>\n",
       "      <td>1</td>\n",
       "      <td>True</td>\n",
       "      <td>2015-01-11</td>\n",
       "    </tr>\n",
       "    <tr>\n",
       "      <th>27240</th>\n",
       "      <td>How do you arrange dates?</td>\n",
       "      <td>I'm a 24yo bisexual guy. The continual annoyan...</td>\n",
       "      <td>AskMen</td>\n",
       "      <td>1421017774</td>\n",
       "      <td>[deleted]</td>\n",
       "      <td>7</td>\n",
       "      <td>1</td>\n",
       "      <td>True</td>\n",
       "      <td>2015-01-11</td>\n",
       "    </tr>\n",
       "    <tr>\n",
       "      <th>27241</th>\n",
       "      <td>What are your favorite podcasts to listen to?</td>\n",
       "      <td>NaN</td>\n",
       "      <td>AskMen</td>\n",
       "      <td>1421020404</td>\n",
       "      <td>collegedropout1234</td>\n",
       "      <td>20</td>\n",
       "      <td>5</td>\n",
       "      <td>True</td>\n",
       "      <td>2015-01-11</td>\n",
       "    </tr>\n",
       "    <tr>\n",
       "      <th>27242</th>\n",
       "      <td>How would you respond to a hand written letter...</td>\n",
       "      <td>Is this really silly? Even if its simple and s...</td>\n",
       "      <td>AskMen</td>\n",
       "      <td>1421020444</td>\n",
       "      <td>illfindone</td>\n",
       "      <td>29</td>\n",
       "      <td>12</td>\n",
       "      <td>True</td>\n",
       "      <td>2015-01-11</td>\n",
       "    </tr>\n",
       "    <tr>\n",
       "      <th>27243</th>\n",
       "      <td>When growing a mustache, should one clip the h...</td>\n",
       "      <td>Just looking for a bit of mustache advice.  I'...</td>\n",
       "      <td>AskMen</td>\n",
       "      <td>1421021580</td>\n",
       "      <td>IAmVeryStupid</td>\n",
       "      <td>17</td>\n",
       "      <td>14</td>\n",
       "      <td>True</td>\n",
       "      <td>2015-01-11</td>\n",
       "    </tr>\n",
       "  </tbody>\n",
       "</table>\n",
       "<p>27244 rows × 9 columns</p>\n",
       "</div>"
      ],
      "text/plain": [
       "                                                   title  \\\n",
       "0      Tuesday Check In: How's Everybody's Mental Hea...   \n",
       "1             Masculinity and The Fear of Being Ordinary   \n",
       "2                                      Dating Resources?   \n",
       "3                                            Vunrability   \n",
       "4      Should men be able to walk away from having ki...   \n",
       "...                                                  ...   \n",
       "27239  Guys who have never had a romantic, intimate a...   \n",
       "27240                          How do you arrange dates?   \n",
       "27241      What are your favorite podcasts to listen to?   \n",
       "27242  How would you respond to a hand written letter...   \n",
       "27243  When growing a mustache, should one clip the h...   \n",
       "\n",
       "                                                selftext subreddit  \\\n",
       "0      Good morning everyone and welcome to our weekl...   MensLib   \n",
       "1      Do you feel a need to be \"superior\" or \"except...   MensLib   \n",
       "2                                              [removed]   MensLib   \n",
       "3                                              [removed]   MensLib   \n",
       "4                                                    NaN   MensLib   \n",
       "...                                                  ...       ...   \n",
       "27239                                                NaN    AskMen   \n",
       "27240  I'm a 24yo bisexual guy. The continual annoyan...    AskMen   \n",
       "27241                                                NaN    AskMen   \n",
       "27242  Is this really silly? Even if its simple and s...    AskMen   \n",
       "27243  Just looking for a bit of mustache advice.  I'...    AskMen   \n",
       "\n",
       "       created_utc              author  num_comments  score  is_self  \\\n",
       "0       1614060020            MLModBot           111     21     True   \n",
       "1       1614066596             spudmix           308    593     True   \n",
       "2       1614078549           GreatWyrm             4      2     True   \n",
       "3       1614083378     lizardwizthebiz             2      1     True   \n",
       "4       1614089417           [deleted]             6      1     True   \n",
       "...            ...                 ...           ...    ...      ...   \n",
       "27239   1421017188     shamefulsomeone             0      1     True   \n",
       "27240   1421017774           [deleted]             7      1     True   \n",
       "27241   1421020404  collegedropout1234            20      5     True   \n",
       "27242   1421020444          illfindone            29     12     True   \n",
       "27243   1421021580       IAmVeryStupid            17     14     True   \n",
       "\n",
       "        timestamp  \n",
       "0      2021-02-22  \n",
       "1      2021-02-22  \n",
       "2      2021-02-23  \n",
       "3      2021-02-23  \n",
       "4      2021-02-23  \n",
       "...           ...  \n",
       "27239  2015-01-11  \n",
       "27240  2015-01-11  \n",
       "27241  2015-01-11  \n",
       "27242  2015-01-11  \n",
       "27243  2015-01-11  \n",
       "\n",
       "[27244 rows x 9 columns]"
      ]
     },
     "execution_count": 6,
     "metadata": {},
     "output_type": "execute_result"
    }
   ],
   "source": [
    "combined_dfs = [mens_lib, male_mental_health, bro_pill, ask_men]\n",
    "\n",
    "for df in combined_dfs:\n",
    "    df.columns = ['title', 'selftext', 'subreddit', 'created_utc',\n",
    "                  'author', 'num_comments', 'score', 'is_self', 'timestamp']\n",
    "\n",
    "pd.concat(combined_dfs).reset_index(drop=True)"
   ]
  },
  {
   "cell_type": "code",
   "execution_count": 7,
   "metadata": {},
   "outputs": [],
   "source": [
    "mens_issues = pd.concat(combined_dfs).reset_index(drop=True)"
   ]
  },
  {
   "cell_type": "code",
   "execution_count": 8,
   "metadata": {},
   "outputs": [],
   "source": [
    "mens_issues = mens_issues.drop(columns = ['created_utc', 'num_comments', 'score', 'is_self', 'timestamp'])"
   ]
  },
  {
   "cell_type": "code",
   "execution_count": 9,
   "metadata": {
    "scrolled": false
   },
   "outputs": [
    {
     "data": {
      "text/plain": [
       "(27244, 4)"
      ]
     },
     "execution_count": 9,
     "metadata": {},
     "output_type": "execute_result"
    }
   ],
   "source": [
    "mens_issues.shape"
   ]
  },
  {
   "cell_type": "markdown",
   "metadata": {},
   "source": [
    "#### Removing autobots from the dataset"
   ]
  },
  {
   "cell_type": "code",
   "execution_count": 10,
   "metadata": {},
   "outputs": [],
   "source": [
    "mens_issues = mens_issues[(mens_issues['author'] != 'MLModBot')]\n",
    "mens_issues = mens_issues[(mens_issues['author'] != 'Mr_Holmes')]\n",
    "mens_issues = mens_issues[(mens_issues['author'] != 'Dewey_Darl')] \n",
    "mens_issues = mens_issues[(mens_issues['author'] != 'AutoModerator')]"
   ]
  },
  {
   "cell_type": "markdown",
   "metadata": {},
   "source": [
    "### String Cleaning"
   ]
  },
  {
   "cell_type": "markdown",
   "metadata": {},
   "source": [
    "Combining title and self text to ensure better text quality of the documents"
   ]
  },
  {
   "cell_type": "markdown",
   "metadata": {},
   "source": [
    "Replacing `NaN` with an empty string so as concatenating the title and author will perform correctly."
   ]
  },
  {
   "cell_type": "code",
   "execution_count": 13,
   "metadata": {},
   "outputs": [],
   "source": [
    "mens_issues['selftext'].fillna(\" \", inplace=True)"
   ]
  },
  {
   "cell_type": "code",
   "execution_count": 14,
   "metadata": {},
   "outputs": [],
   "source": [
    "#function to remove string, specifically the [removed] string under the selftext column\n",
    "def remove_string(df, column, string):\n",
    "    df[column] = df[column].str.replace(string, '')\n",
    "\n",
    "remove_string(mens_issues, 'selftext', '\\[removed\\]')"
   ]
  },
  {
   "cell_type": "code",
   "execution_count": 15,
   "metadata": {},
   "outputs": [],
   "source": [
    "mens_issues['all_text'] = mens_issues['title'].str.cat(mens_issues['selftext'], sep=\" \")"
   ]
  },
  {
   "cell_type": "markdown",
   "metadata": {},
   "source": [
    "Will create a function to normalize and standardize the text within the subreddits."
   ]
  },
  {
   "cell_type": "code",
   "execution_count": 16,
   "metadata": {},
   "outputs": [],
   "source": [
    "#Credits to Gwen for function\n",
    "def clean_strings(input_list, stopwords = []):\n",
    "    import re # we'll use regex to strip urls\n",
    "    output_list = [] # create output list\n",
    "    stopwords = [word.lower() for word in stopwords] # ensure case insensitivity for stopwords\n",
    "    for sentence in input_list:\n",
    "        sentence = re.sub(r'^https?:\\/\\/.*[\\r\\n]*', '', str(sentence), flags=re.MULTILINE) # remove URLS per stackoverflow\n",
    "        sentence = sentence.replace('\\n',' ') # replace \\n and \\t with spaces as they represent breaks between words\n",
    "        sentence = sentence.replace('\\t',' ')\n",
    "        sentence = ''.join([letter for letter in sentence if letter.isalpha() or letter == ' ']) #remove numbers and punctuation\n",
    "        sentence = ' '.join([word for word in sentence.split() if len(word) < 25]) #exclude egregiously long words\n",
    "        sentence = ' '.join([word.lower() for word in sentence.split() if word.lower() not in stopwords]) #coerce to lowercase while removing stopwords\n",
    "        sentence = re.sub(r'\\b\\w{1,3}\\b', '', str(sentence)) #removing words that are less than 3 letters long\n",
    "        sentence = re.sub('[‘’“”…]', '', sentence)\n",
    "        sentence = re.sub('\\n', '', sentence)\n",
    "        output_list.append(sentence) # add to the output list\n",
    "    return output_list"
   ]
  },
  {
   "cell_type": "code",
   "execution_count": 17,
   "metadata": {},
   "outputs": [],
   "source": [
    "#adding stopwords that I deem to be insufficient for my analysis\n",
    "mens_issues['all_text'] = clean_strings(mens_issues['all_text'], stopwords = stop_words.stop_words)"
   ]
  },
  {
   "cell_type": "code",
   "execution_count": 18,
   "metadata": {
    "scrolled": true
   },
   "outputs": [
    {
     "data": {
      "text/plain": [
       "title        0\n",
       "selftext     0\n",
       "subreddit    0\n",
       "author       0\n",
       "all_text     0\n",
       "dtype: int64"
      ]
     },
     "execution_count": 18,
     "metadata": {},
     "output_type": "execute_result"
    }
   ],
   "source": [
    "#checking for nulls\n",
    "mens_issues.isna().sum()"
   ]
  },
  {
   "cell_type": "markdown",
   "metadata": {},
   "source": [
    "#### Removing Asian Characters from dataset"
   ]
  },
  {
   "cell_type": "code",
   "execution_count": 64,
   "metadata": {},
   "outputs": [],
   "source": [
    "#code adapted by Lea Delacrus-Tordjeman\n",
    "mens_issues.drop([i for i in mens_issues[mens_issues['all_text'].str.contains(r'[^\\x00-\\x7F]+') == True].index], inplace = True)"
   ]
  },
  {
   "cell_type": "markdown",
   "metadata": {},
   "source": [
    "#### Lemmatize"
   ]
  },
  {
   "cell_type": "code",
   "execution_count": 19,
   "metadata": {},
   "outputs": [],
   "source": [
    "#created function to lemmatize each word in all text\n",
    "lemmatizer = WordNetLemmatizer()\n",
    "\n",
    "def lemmatize_words(txt):\n",
    "    \"\"\"lemmatize words accepts a string\"\"\"\n",
    "    words = txt.split()\n",
    "    lem_words = ''\n",
    "    for word in words:\n",
    "        lem_words += (lemmatizer.lemmatize(word) + ' ')\n",
    "    return lem_words"
   ]
  },
  {
   "cell_type": "code",
   "execution_count": 20,
   "metadata": {
    "scrolled": true
   },
   "outputs": [],
   "source": [
    "#saving this version for topic modeling in the future\n",
    "#mens_issues.to_csv('./men_df_lem.csv', index=False)"
   ]
  },
  {
   "cell_type": "markdown",
   "metadata": {},
   "source": [
    "#### Stemmatizer"
   ]
  },
  {
   "cell_type": "code",
   "execution_count": 21,
   "metadata": {},
   "outputs": [],
   "source": [
    "#created function to stemmatize each word in all text\n",
    "stemmatizer = PorterStemmer()\n",
    "\n",
    "def stemmatize_words(txt):\n",
    "    \"\"\"stemmatize words accepts a string\"\"\"\n",
    "    words = txt.split()\n",
    "    stem_words = ''\n",
    "    for word in words:\n",
    "        stem_words += (stemmatizer.stem(word) + ' ')\n",
    "    return stem_words"
   ]
  },
  {
   "cell_type": "code",
   "execution_count": 22,
   "metadata": {},
   "outputs": [],
   "source": [
    "mens_issues['all_text'] = mens_issues['all_text'].apply(stemmatize_words)"
   ]
  },
  {
   "cell_type": "code",
   "execution_count": 23,
   "metadata": {},
   "outputs": [],
   "source": [
    "#saving this version for topic modeling in the future\n",
    "#mens_issues.to_csv('./men_df_stem.csv', index=False)"
   ]
  },
  {
   "cell_type": "markdown",
   "metadata": {},
   "source": [
    "### Exploratory Data Analysis on Mens' Issues"
   ]
  },
  {
   "cell_type": "code",
   "execution_count": 24,
   "metadata": {},
   "outputs": [],
   "source": [
    "#investigating the variety of string length\n",
    "mens_issues['post_length'] = mens_issues['all_text'].str.len()"
   ]
  },
  {
   "cell_type": "code",
   "execution_count": 25,
   "metadata": {
    "scrolled": false
   },
   "outputs": [
    {
     "data": {
      "image/png": "[encoded data removed]",
      "text/plain": [
       "<Figure size 360x360 with 1 Axes>"
      ]
     },
     "metadata": {
      "needs_background": "light"
     },
     "output_type": "display_data"
    },
    {
     "data": {
      "text/plain": [
       "<Figure size 432x288 with 0 Axes>"
      ]
     },
     "metadata": {},
     "output_type": "display_data"
    }
   ],
   "source": [
    "g = sns.displot(mens_issues, x=\"post_length\", legend=False, element=\"step\", bins = 500)\n",
    "plt.xlim(-1,2_000)\n",
    "plt.title(\"Post Length Distribution per Subreddit\\nexcluding outliers (>500)\")\n",
    "plt.show(g)\n",
    "plt.tight_layout()"
   ]
  },
  {
   "cell_type": "markdown",
   "metadata": {},
   "source": [
    "We see majority of the posts fall within the 0-100 words bucket, yet we can't ignore the posts that exceed the majority amount"
   ]
  },
  {
   "cell_type": "code",
   "execution_count": 26,
   "metadata": {},
   "outputs": [],
   "source": [
    "cvec_eda = CountVectorizer(stop_words = 'english', max_features = 20_000)\n",
    "\n",
    "X_eda = mens_issues['all_text']\n",
    "X_eda = cvec_eda.fit_transform(X_eda)\n",
    "X_eda_df = pd.DataFrame(X_eda.todense(), columns = cvec_eda.get_feature_names())"
   ]
  },
  {
   "cell_type": "code",
   "execution_count": 27,
   "metadata": {},
   "outputs": [
    {
     "data": {
      "text/plain": [
       "(26605, 20000)"
      ]
     },
     "execution_count": 27,
     "metadata": {},
     "output_type": "execute_result"
    }
   ],
   "source": [
    "X_eda_df.shape"
   ]
  },
  {
   "cell_type": "code",
   "execution_count": 28,
   "metadata": {},
   "outputs": [
    {
     "data": {
      "text/plain": [
       "want            10170\n",
       "think            8075\n",
       "friend           7464\n",
       "women            5747\n",
       "life             5496\n",
       "work             5304\n",
       "help             5072\n",
       "girl             4768\n",
       "feel             4740\n",
       "good             4340\n",
       "start            4311\n",
       "need             4301\n",
       "look             3958\n",
       "relationship     3889\n",
       "guy              3681\n",
       "dtype: int64"
      ]
     },
     "execution_count": 28,
     "metadata": {},
     "output_type": "execute_result"
    }
   ],
   "source": [
    "X_eda_df.sum().sort_values(ascending = False).head(15)"
   ]
  },
  {
   "cell_type": "code",
   "execution_count": 29,
   "metadata": {
    "scrolled": true
   },
   "outputs": [
    {
     "data": {
      "image/png": "[encoded data removed]",
      "text/plain": [
       "<Figure size 864x504 with 1 Axes>"
      ]
     },
     "metadata": {
      "needs_background": "light"
     },
     "output_type": "display_data"
    }
   ],
   "source": [
    "plt.figure(figsize=(12,7))\n",
    "X_eda_df.sum().sort_values(ascending=False).head(10).plot(kind='barh');\n",
    "plt.title('Ten Most Common Words in the Dataset', size = 14)\n",
    "plt.xlabel('Count', size = 12)\n",
    "#plt.savefig('eda_words.png', dpi=300)\n",
    "plt.show()"
   ]
  },
  {
   "cell_type": "markdown",
   "metadata": {},
   "source": [
    "From bar graph above, I would like to see words where the length of the word is greater than 4 characters long, will create function in the next cell to display that"
   ]
  },
  {
   "cell_type": "markdown",
   "metadata": {},
   "source": [
    "#### Exploring Most Common Words with Varying String Lengths"
   ]
  },
  {
   "cell_type": "code",
   "execution_count": 30,
   "metadata": {},
   "outputs": [],
   "source": [
    "#updating function to filter out words that are less than 4 letters long\n",
    "def clean_strings2(input_list, stopwords = []):\n",
    "    import re # we'll use regex to strip urls\n",
    "    output_list = [] # create output list\n",
    "    stopwords = [word.lower() for word in stopwords] # ensure case insensitivity for stopwords\n",
    "    for sentence in input_list:\n",
    "        sentence = re.sub(r'^https?:\\/\\/.*[\\r\\n]*', '', str(sentence), flags=re.MULTILINE) # remove URLS per stackoverflow\n",
    "        sentence = sentence.replace('\\n',' ') # replace \\n and \\t with spaces as they represent breaks between words\n",
    "        sentence = sentence.replace('\\t',' ')\n",
    "        sentence = ''.join([letter for letter in sentence if letter.isalpha() or letter == ' ']) #remove numbers and punctuation\n",
    "        sentence = ' '.join([word for word in sentence.split() if len(word) > 4])\n",
    "        sentence = ' '.join([word.lower() for word in sentence.split() if word.lower() not in stopwords]) #coerce to lowercase while removing stopwords\n",
    "        sentence = re.sub(r'\\b\\w{1,3}\\b', '', str(sentence)) #removing words that are less than 3 letters long\n",
    "        sentence = re.sub('[‘’“”…]', '', sentence)\n",
    "        sentence = re.sub('\\n', '', sentence)\n",
    "        output_list.append(sentence) # add to the output list\n",
    "    return output_list"
   ]
  },
  {
   "cell_type": "code",
   "execution_count": 31,
   "metadata": {},
   "outputs": [],
   "source": [
    "#adding stopwords that I deem to be insufficient for my analysis\n",
    "mens_issues['all_text2'] = clean_strings2(mens_issues['all_text'], stopwords = stop_words.stop_words)"
   ]
  },
  {
   "cell_type": "code",
   "execution_count": 32,
   "metadata": {},
   "outputs": [],
   "source": [
    "cvec_eda2 = CountVectorizer(stop_words = 'english', max_features = 10_000)\n",
    "\n",
    "X_eda = mens_issues['all_text2']\n",
    "X_eda = cvec_eda2.fit_transform(X_eda)\n",
    "X_eda_df = pd.DataFrame(X_eda.todense(), columns = cvec_eda2.get_feature_names())"
   ]
  },
  {
   "cell_type": "code",
   "execution_count": 33,
   "metadata": {},
   "outputs": [
    {
     "data": {
      "text/plain": [
       "think           8075\n",
       "friend          7464\n",
       "women           5747\n",
       "start           4311\n",
       "relationship    3889\n",
       "thought         3589\n",
       "right           2688\n",
       "better          2549\n",
       "sexual          2441\n",
       "masculin        2248\n",
       "happen          2185\n",
       "school          2185\n",
       "problem         2162\n",
       "point           2122\n",
       "mental          2099\n",
       "dtype: int64"
      ]
     },
     "execution_count": 33,
     "metadata": {},
     "output_type": "execute_result"
    }
   ],
   "source": [
    "X_eda_df.sum().sort_values(ascending = False).head(15)"
   ]
  },
  {
   "cell_type": "code",
   "execution_count": 34,
   "metadata": {},
   "outputs": [
    {
     "data": {
      "image/png": "[encoded data removed]",
      "text/plain": [
       "<Figure size 864x504 with 1 Axes>"
      ]
     },
     "metadata": {
      "needs_background": "light"
     },
     "output_type": "display_data"
    }
   ],
   "source": [
    "plt.figure(figsize=(12,7))\n",
    "X_eda_df.sum().sort_values(ascending=False).head(10).plot(kind='barh');\n",
    "#plt.savefig('eda_words2.png', dpi=300)\n",
    "plt.show()"
   ]
  },
  {
   "cell_type": "markdown",
   "metadata": {},
   "source": [
    "#### Sentiment Analysis"
   ]
  },
  {
   "cell_type": "code",
   "execution_count": 35,
   "metadata": {},
   "outputs": [],
   "source": [
    "#initializing corpus variable to list out the mens_issues['all_text'] column\n",
    "corpus = list(mens_issues['all_text'])"
   ]
  },
  {
   "cell_type": "code",
   "execution_count": 36,
   "metadata": {},
   "outputs": [],
   "source": [
    "sia = SentimentIntensityAnalyzer()"
   ]
  },
  {
   "cell_type": "code",
   "execution_count": 37,
   "metadata": {},
   "outputs": [
    {
     "data": {
      "text/plain": [
       "{'neg': 0.032, 'neu': 0.551, 'pos': 0.416, 'compound': 0.9894}"
      ]
     },
     "execution_count": 37,
     "metadata": {},
     "output_type": "execute_result"
    }
   ],
   "source": [
    "#Self-Checking polarity scores for the 10th document\n",
    "sia.polarity_scores(corpus[9])"
   ]
  },
  {
   "cell_type": "code",
   "execution_count": 38,
   "metadata": {},
   "outputs": [
    {
     "data": {
      "text/html": [
       "<div>\n",
       "<style scoped>\n",
       "    .dataframe tbody tr th:only-of-type {\n",
       "        vertical-align: middle;\n",
       "    }\n",
       "\n",
       "    .dataframe tbody tr th {\n",
       "        vertical-align: top;\n",
       "    }\n",
       "\n",
       "    .dataframe thead th {\n",
       "        text-align: right;\n",
       "    }\n",
       "</style>\n",
       "<table border=\"1\" class=\"dataframe\">\n",
       "  <thead>\n",
       "    <tr style=\"text-align: right;\">\n",
       "      <th></th>\n",
       "      <th>neg</th>\n",
       "      <th>neu</th>\n",
       "      <th>pos</th>\n",
       "      <th>compound</th>\n",
       "      <th>alltext</th>\n",
       "    </tr>\n",
       "  </thead>\n",
       "  <tbody>\n",
       "    <tr>\n",
       "      <th>0</th>\n",
       "      <td>0.145</td>\n",
       "      <td>0.690</td>\n",
       "      <td>0.165</td>\n",
       "      <td>0.4767</td>\n",
       "      <td>masculin fear ordinari need superior except ch...</td>\n",
       "    </tr>\n",
       "    <tr>\n",
       "      <th>1</th>\n",
       "      <td>0.000</td>\n",
       "      <td>1.000</td>\n",
       "      <td>0.000</td>\n",
       "      <td>0.0000</td>\n",
       "      <td>date resourc</td>\n",
       "    </tr>\n",
       "    <tr>\n",
       "      <th>2</th>\n",
       "      <td>0.000</td>\n",
       "      <td>1.000</td>\n",
       "      <td>0.000</td>\n",
       "      <td>0.0000</td>\n",
       "      <td>vunrabl</td>\n",
       "    </tr>\n",
       "    <tr>\n",
       "      <th>3</th>\n",
       "      <td>0.000</td>\n",
       "      <td>1.000</td>\n",
       "      <td>0.000</td>\n",
       "      <td>0.0000</td>\n",
       "      <td>abl walk away have kid women abort</td>\n",
       "    </tr>\n",
       "    <tr>\n",
       "      <th>4</th>\n",
       "      <td>0.000</td>\n",
       "      <td>1.000</td>\n",
       "      <td>0.000</td>\n",
       "      <td>0.0000</td>\n",
       "      <td>mainstream</td>\n",
       "    </tr>\n",
       "    <tr>\n",
       "      <th>5</th>\n",
       "      <td>0.246</td>\n",
       "      <td>0.352</td>\n",
       "      <td>0.401</td>\n",
       "      <td>0.2960</td>\n",
       "      <td>think way talk popular discours harm convers b...</td>\n",
       "    </tr>\n",
       "    <tr>\n",
       "      <th>6</th>\n",
       "      <td>0.524</td>\n",
       "      <td>0.476</td>\n",
       "      <td>0.000</td>\n",
       "      <td>-0.2960</td>\n",
       "      <td>abl stop abort</td>\n",
       "    </tr>\n",
       "    <tr>\n",
       "      <th>7</th>\n",
       "      <td>0.000</td>\n",
       "      <td>1.000</td>\n",
       "      <td>0.000</td>\n",
       "      <td>0.0000</td>\n",
       "      <td>stereotyp</td>\n",
       "    </tr>\n",
       "    <tr>\n",
       "      <th>8</th>\n",
       "      <td>0.053</td>\n",
       "      <td>0.837</td>\n",
       "      <td>0.110</td>\n",
       "      <td>0.3612</td>\n",
       "      <td>anybodi check palgrav handbook male psycholog ...</td>\n",
       "    </tr>\n",
       "    <tr>\n",
       "      <th>9</th>\n",
       "      <td>0.032</td>\n",
       "      <td>0.551</td>\n",
       "      <td>0.416</td>\n",
       "      <td>0.9894</td>\n",
       "      <td>group better help woman wife boy girl licens p...</td>\n",
       "    </tr>\n",
       "  </tbody>\n",
       "</table>\n",
       "</div>"
      ],
      "text/plain": [
       "     neg    neu    pos  compound  \\\n",
       "0  0.145  0.690  0.165    0.4767   \n",
       "1  0.000  1.000  0.000    0.0000   \n",
       "2  0.000  1.000  0.000    0.0000   \n",
       "3  0.000  1.000  0.000    0.0000   \n",
       "4  0.000  1.000  0.000    0.0000   \n",
       "5  0.246  0.352  0.401    0.2960   \n",
       "6  0.524  0.476  0.000   -0.2960   \n",
       "7  0.000  1.000  0.000    0.0000   \n",
       "8  0.053  0.837  0.110    0.3612   \n",
       "9  0.032  0.551  0.416    0.9894   \n",
       "\n",
       "                                             alltext  \n",
       "0  masculin fear ordinari need superior except ch...  \n",
       "1                                      date resourc   \n",
       "2                                           vunrabl   \n",
       "3                abl walk away have kid women abort   \n",
       "4                                        mainstream   \n",
       "5  think way talk popular discours harm convers b...  \n",
       "6                                    abl stop abort   \n",
       "7                                         stereotyp   \n",
       "8  anybodi check palgrav handbook male psycholog ...  \n",
       "9  group better help woman wife boy girl licens p...  "
      ]
     },
     "execution_count": 38,
     "metadata": {},
     "output_type": "execute_result"
    }
   ],
   "source": [
    "sentiment = []    \n",
    "\n",
    "for el in corpus:\n",
    "    scores = sia.polarity_scores(el)\n",
    "    scores['alltext'] = el\n",
    "    sentiment.append(scores)\n",
    "\n",
    "df_sentiment = pd.DataFrame(sentiment)\n",
    "df_sentiment.head(10)"
   ]
  },
  {
   "cell_type": "code",
   "execution_count": 39,
   "metadata": {},
   "outputs": [],
   "source": [
    "#initializing marker column \n",
    "df_sentiment['score'] = 0"
   ]
  },
  {
   "cell_type": "code",
   "execution_count": 40,
   "metadata": {},
   "outputs": [
    {
     "data": {
      "text/plain": [
       "<Figure size 720x504 with 0 Axes>"
      ]
     },
     "metadata": {},
     "output_type": "display_data"
    },
    {
     "data": {
      "image/png": "[encoded data removed]",
      "text/plain": [
       "<Figure size 432x288 with 1 Axes>"
      ]
     },
     "metadata": {
      "needs_background": "light"
     },
     "output_type": "display_data"
    }
   ],
   "source": [
    "#plotting the average positive and negative scores for all posts\n",
    "plt.figure(figsize=(10,7));\n",
    "df_sentiment.groupby('score').mean()[['pos', 'neg']].plot(kind='barh');\n",
    "plt.title('Post Count Categorized as Positive or Negative', size = 14);\n",
    "plt.ylabel('All Posts', size = 12);\n",
    "plt.xlabel('Sentiment Score', size = 12);\n",
    "plt.tight_layout();"
   ]
  },
  {
   "cell_type": "code",
   "execution_count": 41,
   "metadata": {},
   "outputs": [
    {
     "data": {
      "text/html": [
       "<div>\n",
       "<style scoped>\n",
       "    .dataframe tbody tr th:only-of-type {\n",
       "        vertical-align: middle;\n",
       "    }\n",
       "\n",
       "    .dataframe tbody tr th {\n",
       "        vertical-align: top;\n",
       "    }\n",
       "\n",
       "    .dataframe thead th {\n",
       "        text-align: right;\n",
       "    }\n",
       "</style>\n",
       "<table border=\"1\" class=\"dataframe\">\n",
       "  <thead>\n",
       "    <tr style=\"text-align: right;\">\n",
       "      <th></th>\n",
       "      <th>neg</th>\n",
       "      <th>pos</th>\n",
       "      <th>alltext</th>\n",
       "    </tr>\n",
       "  </thead>\n",
       "  <tbody>\n",
       "    <tr>\n",
       "      <th>3239</th>\n",
       "      <td>1.0</td>\n",
       "      <td>0.0</td>\n",
       "      <td>anger</td>\n",
       "    </tr>\n",
       "    <tr>\n",
       "      <th>16338</th>\n",
       "      <td>1.0</td>\n",
       "      <td>0.0</td>\n",
       "      <td>ghost</td>\n",
       "    </tr>\n",
       "    <tr>\n",
       "      <th>20928</th>\n",
       "      <td>1.0</td>\n",
       "      <td>0.0</td>\n",
       "      <td>cheat</td>\n",
       "    </tr>\n",
       "    <tr>\n",
       "      <th>21977</th>\n",
       "      <td>1.0</td>\n",
       "      <td>0.0</td>\n",
       "      <td>wrong</td>\n",
       "    </tr>\n",
       "    <tr>\n",
       "      <th>21461</th>\n",
       "      <td>1.0</td>\n",
       "      <td>0.0</td>\n",
       "      <td>careless lost broken</td>\n",
       "    </tr>\n",
       "    <tr>\n",
       "      <th>19816</th>\n",
       "      <td>1.0</td>\n",
       "      <td>0.0</td>\n",
       "      <td>avoid</td>\n",
       "    </tr>\n",
       "    <tr>\n",
       "      <th>14934</th>\n",
       "      <td>1.0</td>\n",
       "      <td>0.0</td>\n",
       "      <td>crush</td>\n",
       "    </tr>\n",
       "    <tr>\n",
       "      <th>23107</th>\n",
       "      <td>1.0</td>\n",
       "      <td>0.0</td>\n",
       "      <td>lose</td>\n",
       "    </tr>\n",
       "    <tr>\n",
       "      <th>7374</th>\n",
       "      <td>1.0</td>\n",
       "      <td>0.0</td>\n",
       "      <td>panic attack drunk</td>\n",
       "    </tr>\n",
       "    <tr>\n",
       "      <th>20953</th>\n",
       "      <td>1.0</td>\n",
       "      <td>0.0</td>\n",
       "      <td>lone</td>\n",
       "    </tr>\n",
       "  </tbody>\n",
       "</table>\n",
       "</div>"
      ],
      "text/plain": [
       "       neg  pos                alltext\n",
       "3239   1.0  0.0                 anger \n",
       "16338  1.0  0.0                 ghost \n",
       "20928  1.0  0.0                 cheat \n",
       "21977  1.0  0.0                 wrong \n",
       "21461  1.0  0.0  careless lost broken \n",
       "19816  1.0  0.0                 avoid \n",
       "14934  1.0  0.0                 crush \n",
       "23107  1.0  0.0                  lose \n",
       "7374   1.0  0.0    panic attack drunk \n",
       "20953  1.0  0.0                  lone "
      ]
     },
     "execution_count": 41,
     "metadata": {},
     "output_type": "execute_result"
    }
   ],
   "source": [
    "#investigating posts with high negative sentiment scores\n",
    "df_sentiment[['neg', 'pos', 'alltext']].sort_values('neg', ascending=False).head(10)"
   ]
  },
  {
   "cell_type": "code",
   "execution_count": 42,
   "metadata": {
    "scrolled": true
   },
   "outputs": [
    {
     "data": {
      "text/html": [
       "<div>\n",
       "<style scoped>\n",
       "    .dataframe tbody tr th:only-of-type {\n",
       "        vertical-align: middle;\n",
       "    }\n",
       "\n",
       "    .dataframe tbody tr th {\n",
       "        vertical-align: top;\n",
       "    }\n",
       "\n",
       "    .dataframe thead th {\n",
       "        text-align: right;\n",
       "    }\n",
       "</style>\n",
       "<table border=\"1\" class=\"dataframe\">\n",
       "  <thead>\n",
       "    <tr style=\"text-align: right;\">\n",
       "      <th></th>\n",
       "      <th>neg</th>\n",
       "      <th>pos</th>\n",
       "      <th>alltext</th>\n",
       "    </tr>\n",
       "  </thead>\n",
       "  <tbody>\n",
       "    <tr>\n",
       "      <th>12699</th>\n",
       "      <td>0.0</td>\n",
       "      <td>1.0</td>\n",
       "      <td>greatest</td>\n",
       "    </tr>\n",
       "    <tr>\n",
       "      <th>24856</th>\n",
       "      <td>0.0</td>\n",
       "      <td>1.0</td>\n",
       "      <td>sure</td>\n",
       "    </tr>\n",
       "    <tr>\n",
       "      <th>4427</th>\n",
       "      <td>0.0</td>\n",
       "      <td>1.0</td>\n",
       "      <td>joke</td>\n",
       "    </tr>\n",
       "    <tr>\n",
       "      <th>4443</th>\n",
       "      <td>0.0</td>\n",
       "      <td>1.0</td>\n",
       "      <td>harmless</td>\n",
       "    </tr>\n",
       "    <tr>\n",
       "      <th>12700</th>\n",
       "      <td>0.0</td>\n",
       "      <td>1.0</td>\n",
       "      <td>spark</td>\n",
       "    </tr>\n",
       "    <tr>\n",
       "      <th>4471</th>\n",
       "      <td>0.0</td>\n",
       "      <td>1.0</td>\n",
       "      <td>friend good</td>\n",
       "    </tr>\n",
       "    <tr>\n",
       "      <th>24714</th>\n",
       "      <td>0.0</td>\n",
       "      <td>1.0</td>\n",
       "      <td>dear</td>\n",
       "    </tr>\n",
       "    <tr>\n",
       "      <th>1286</th>\n",
       "      <td>0.0</td>\n",
       "      <td>1.0</td>\n",
       "      <td>hug</td>\n",
       "    </tr>\n",
       "    <tr>\n",
       "      <th>19498</th>\n",
       "      <td>0.0</td>\n",
       "      <td>1.0</td>\n",
       "      <td>friend</td>\n",
       "    </tr>\n",
       "    <tr>\n",
       "      <th>11748</th>\n",
       "      <td>0.0</td>\n",
       "      <td>1.0</td>\n",
       "      <td>love free share</td>\n",
       "    </tr>\n",
       "  </tbody>\n",
       "</table>\n",
       "</div>"
      ],
      "text/plain": [
       "       neg  pos           alltext\n",
       "12699  0.0  1.0         greatest \n",
       "24856  0.0  1.0             sure \n",
       "4427   0.0  1.0             joke \n",
       "4443   0.0  1.0         harmless \n",
       "12700  0.0  1.0            spark \n",
       "4471   0.0  1.0      friend good \n",
       "24714  0.0  1.0             dear \n",
       "1286   0.0  1.0              hug \n",
       "19498  0.0  1.0           friend \n",
       "11748  0.0  1.0  love free share "
      ]
     },
     "execution_count": 42,
     "metadata": {},
     "output_type": "execute_result"
    }
   ],
   "source": [
    "#investigating posts with high sentiment scores\n",
    "df_sentiment[['neg', 'pos', 'alltext']].sort_values('pos', ascending=False).head(10)"
   ]
  },
  {
   "cell_type": "markdown",
   "metadata": {},
   "source": [
    "By investigating the posts with high negative and positive sentiment scores, we see that most posts are solely one-worded posts. Will filter these posts out to get a clearer idea of what most men are posting on these subreddits."
   ]
  },
  {
   "cell_type": "code",
   "execution_count": 43,
   "metadata": {},
   "outputs": [],
   "source": [
    "#created column where it returns either True or False whether or not the string length is more than 50 characters long\n",
    "df_sentiment['alltext_length'] = df_sentiment['alltext'].str.len() >= 50"
   ]
  },
  {
   "cell_type": "code",
   "execution_count": 44,
   "metadata": {},
   "outputs": [],
   "source": [
    "#Created another dataframe where string length is more than 50\n",
    "second_df_sentiment = df_sentiment[df_sentiment['alltext_length'] == True]"
   ]
  },
  {
   "cell_type": "code",
   "execution_count": 45,
   "metadata": {},
   "outputs": [],
   "source": [
    "posi_df = second_df_sentiment[['neg', 'pos', 'alltext']].sort_values('pos', ascending=False).head(5000)"
   ]
  },
  {
   "cell_type": "code",
   "execution_count": 46,
   "metadata": {},
   "outputs": [],
   "source": [
    "cvec_eda_pos = CountVectorizer(stop_words = 'english', max_features = 20_000)\n",
    "\n",
    "posi_eda = posi_df['alltext']\n",
    "posi_eda = cvec_eda_pos.fit_transform(posi_eda)\n",
    "posi_eda_df = pd.DataFrame(posi_eda.todense(), columns = cvec_eda_pos.get_feature_names())"
   ]
  },
  {
   "cell_type": "code",
   "execution_count": 47,
   "metadata": {},
   "outputs": [
    {
     "data": {
      "text/plain": [
       "want            4683\n",
       "friend          4622\n",
       "think           2741\n",
       "help            2382\n",
       "good            2208\n",
       "love            2035\n",
       "life            1967\n",
       "feel            1810\n",
       "girl            1756\n",
       "work            1710\n",
       "start           1533\n",
       "need            1507\n",
       "relationship    1500\n",
       "look            1362\n",
       "women           1298\n",
       "dtype: int64"
      ]
     },
     "execution_count": 47,
     "metadata": {},
     "output_type": "execute_result"
    }
   ],
   "source": [
    "#self-checking values\n",
    "posi_eda_df.sum().sort_values(ascending = False).head(15)"
   ]
  },
  {
   "cell_type": "code",
   "execution_count": 48,
   "metadata": {},
   "outputs": [
    {
     "data": {
      "image/png": "[encoded data removed]",
      "text/plain": [
       "<Figure size 504x360 with 1 Axes>"
      ]
     },
     "metadata": {
      "needs_background": "light"
     },
     "output_type": "display_data"
    },
    {
     "data": {
      "text/plain": [
       "<Figure size 432x288 with 0 Axes>"
      ]
     },
     "metadata": {},
     "output_type": "display_data"
    }
   ],
   "source": [
    "plt.figure(figsize=(7,5))\n",
    "plt.title('Words Most Frequent with Positive Score')\n",
    "posi_eda_df.sum().sort_values(ascending=False).head(10).plot(kind='barh', color='red');\n",
    "#plt.savefig('posi_eda_words.png', dpi=300)\n",
    "plt.show();\n",
    "plt.tight_layout();"
   ]
  },
  {
   "cell_type": "code",
   "execution_count": 50,
   "metadata": {},
   "outputs": [],
   "source": [
    "neg_df = second_df_sentiment[['neg', 'pos', 'alltext']].sort_values('neg', ascending=False).head(5000)"
   ]
  },
  {
   "cell_type": "code",
   "execution_count": 51,
   "metadata": {},
   "outputs": [],
   "source": [
    "cvec_eda_neg = CountVectorizer(stop_words = 'english', max_features = 20_000)\n",
    "\n",
    "neg_eda = neg_df['alltext']\n",
    "neg_eda = cvec_eda_neg.fit_transform(neg_eda)\n",
    "neg_eda_df = pd.DataFrame(neg_eda.todense(), columns = cvec_eda_neg.get_feature_names())"
   ]
  },
  {
   "cell_type": "code",
   "execution_count": 52,
   "metadata": {},
   "outputs": [
    {
     "data": {
      "text/plain": [
       "want       4416\n",
       "think      3339\n",
       "friend     3038\n",
       "life       2698\n",
       "feel       2268\n",
       "help       2096\n",
       "work       2073\n",
       "start      1978\n",
       "women      1953\n",
       "need       1801\n",
       "tri        1692\n",
       "good       1645\n",
       "thought    1599\n",
       "fuck       1528\n",
       "look       1490\n",
       "dtype: int64"
      ]
     },
     "execution_count": 52,
     "metadata": {},
     "output_type": "execute_result"
    }
   ],
   "source": [
    "neg_eda_df.sum().sort_values(ascending = False).head(15)"
   ]
  },
  {
   "cell_type": "code",
   "execution_count": 53,
   "metadata": {
    "scrolled": true
   },
   "outputs": [
    {
     "data": {
      "image/png": "[encoded data removed]",
      "text/plain": [
       "<Figure size 504x360 with 1 Axes>"
      ]
     },
     "metadata": {
      "needs_background": "light"
     },
     "output_type": "display_data"
    },
    {
     "data": {
      "text/plain": [
       "<Figure size 432x288 with 0 Axes>"
      ]
     },
     "metadata": {},
     "output_type": "display_data"
    }
   ],
   "source": [
    "plt.figure(figsize=(7,5))\n",
    "neg_eda_df.sum().sort_values(ascending=False).head(10).plot(kind='barh');\n",
    "plt.title('Words Most Frequent with Negative Score')\n",
    "#plt.savefig('neg_eda_words.png', dpi=200)\n",
    "plt.show();\n",
    "plt.tight_layout();"
   ]
  },
  {
   "cell_type": "markdown",
   "metadata": {},
   "source": [
    "Based on the two charts, we don't see a huge degree of difference between the top 10 words from the positve score dataframe and the negative score dataframe."
   ]
  },
  {
   "cell_type": "markdown",
   "metadata": {},
   "source": [
    "#### Implementing N-grams"
   ]
  },
  {
   "cell_type": "markdown",
   "metadata": {},
   "source": [
    "In this section of the EDA, I will explore the top bi-grams and tri-grams within the dataset"
   ]
  },
  {
   "cell_type": "code",
   "execution_count": 54,
   "metadata": {},
   "outputs": [],
   "source": [
    "from nltk.util import ngrams"
   ]
  },
  {
   "cell_type": "code",
   "execution_count": 55,
   "metadata": {},
   "outputs": [],
   "source": [
    "corpus=[]\n",
    "men_say= mens_issues['all_text'].str.split()\n",
    "men_say=mens_issues.values.tolist()\n",
    "corpus=[word for i in men_say for word in i]"
   ]
  },
  {
   "cell_type": "code",
   "execution_count": 56,
   "metadata": {},
   "outputs": [],
   "source": [
    "def get_top_ngram(corpus, n=None):\n",
    "    vec = CountVectorizer(ngram_range=(n, n)).fit(corpus)\n",
    "    bag_of_words = vec.transform(corpus)\n",
    "    sum_words = bag_of_words.sum(axis=0) \n",
    "    words_freq = [(word, sum_words[0, idx]) \n",
    "                  for word, idx in vec.vocabulary_.items()]\n",
    "    words_freq =sorted(words_freq, key = lambda x: x[1], reverse=True)\n",
    "    return words_freq[:10]"
   ]
  },
  {
   "cell_type": "code",
   "execution_count": 57,
   "metadata": {},
   "outputs": [],
   "source": [
    "mens_issues['all_text'] = clean_strings(mens_issues['all_text'], stopwords = stop_words.stop_words)"
   ]
  },
  {
   "cell_type": "code",
   "execution_count": 58,
   "metadata": {},
   "outputs": [],
   "source": [
    "import seaborn as sns\n",
    "import numpy as np\n",
    "from matplotlib import pyplot\n",
    "from nltk.corpus import stopwords\n",
    "from sklearn.feature_extraction.text import CountVectorizer\n",
    "from collections import  Counter\n",
    "\n",
    "def plot_top_ngrams_barchart(text, n=2):\n",
    "    stop_words=set(stopwords.words('english'))\n",
    "    new_stopwords=['have', 'been', 'this', 'that', 'have', 'have been', 'they were', 'away from', 'they', 'rules still apply', 'even', 'though', 'even though', 'amazon gift card']\n",
    "    new_stopwords_list = stop_words.union(new_stopwords)\n",
    "\n",
    "    men_say= mens_issues['all_text'].str.split()\n",
    "    men_say=mens_issues.values.tolist()\n",
    "    corpus=[word for i in men_say for word in i if word not in new_stopwords_list]\n",
    "\n",
    "    def _get_top_ngram(corpus, n=None):\n",
    "        vec = CountVectorizer(ngram_range=(n, n)).fit(corpus)\n",
    "        bag_of_words = vec.transform(corpus)\n",
    "        sum_words = bag_of_words.sum(axis=0) \n",
    "        words_freq = [(word, sum_words[0, idx]) \n",
    "                      for word, idx in vec.vocabulary_.items()]\n",
    "        words_freq =sorted(words_freq, key = lambda x: x[1], reverse=True)\n",
    "        return words_freq[:10]\n",
    "\n",
    "    top_n_bigrams=_get_top_ngram(text,n)[:10]\n",
    "    x,y=map(list,zip(*top_n_bigrams))\n",
    "    sns.set(rc={'figure.figsize':(10,7)})\n",
    "    sns.barplot(x=y,y=x)"
   ]
  },
  {
   "cell_type": "code",
   "execution_count": 59,
   "metadata": {
    "scrolled": false
   },
   "outputs": [
    {
     "data": {
      "image/png": "[encoded data removed]",
      "text/plain": [
       "<Figure size 720x504 with 1 Axes>"
      ]
     },
     "metadata": {},
     "output_type": "display_data"
    }
   ],
   "source": [
    "plot_top_ngrams_barchart(mens_issues['all_text'],2)"
   ]
  },
  {
   "cell_type": "markdown",
   "metadata": {},
   "source": [
    "We can see that the majority of words appear to be referring to so something or someone. What really stood out here is \"high school\" being a top bi-gram. Furthermore, it appears that sexual assault, social media, and toxic masculinity are top words being represented in these sub-reddit posts."
   ]
  },
  {
   "cell_type": "code",
   "execution_count": 60,
   "metadata": {
    "scrolled": true
   },
   "outputs": [
    {
     "data": {
      "image/png": "[encoded data removed]",
      "text/plain": [
       "<Figure size 720x504 with 1 Axes>"
      ]
     },
     "metadata": {},
     "output_type": "display_data"
    }
   ],
   "source": [
    "plot_top_ngrams_barchart(mens_issues['all_text'],3)"
   ]
  },
  {
   "cell_type": "markdown",
   "metadata": {},
   "source": [
    "From this bar chart, we see more reoccurring themes of what most men are posting about, and that is male mental health, graduating high school, false rape accusations, and long-distance relationships, to name a few."
   ]
  },
  {
   "cell_type": "code",
   "execution_count": 61,
   "metadata": {},
   "outputs": [],
   "source": [
    "#mens_issues.to_csv('./men_df_eda.csv')"
   ]
  },
  {
   "cell_type": "markdown",
   "metadata": {},
   "source": [
    "_____"
   ]
  }
 ],
 "metadata": {
  "kernelspec": {
   "display_name": "Python 3",
   "language": "python",
   "name": "python3"
  },
  "language_info": {
   "codemirror_mode": {
    "name": "ipython",
    "version": 3
   },
   "file_extension": ".py",
   "mimetype": "text/x-python",
   "name": "python",
   "nbconvert_exporter": "python",
   "pygments_lexer": "ipython3",
   "version": "3.8.5"
  },
  "toc": {
   "base_numbering": 1,
   "nav_menu": {},
   "number_sections": true,
   "sideBar": true,
   "skip_h1_title": false,
   "title_cell": "Table of Contents",
   "title_sidebar": "Contents",
   "toc_cell": false,
   "toc_position": {},
   "toc_section_display": true,
   "toc_window_display": false
  }
 },
 "nbformat": 4,
 "nbformat_minor": 4
}
